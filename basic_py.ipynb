{
  "cells": [
    {
      "cell_type": "markdown",
      "id": "eccba78c",
      "metadata": {
        "id": "eccba78c"
      },
      "source": [
        "# List\n",
        "\n",
        "List is a collection of data"
      ]
    },
    {
      "cell_type": "code",
      "execution_count": null,
      "id": "2662a734",
      "metadata": {
        "id": "2662a734"
      },
      "outputs": [],
      "source": [
        "l=[]"
      ]
    },
    {
      "cell_type": "code",
      "execution_count": null,
      "id": "678b0654",
      "metadata": {
        "id": "678b0654",
        "outputId": "8047d31f-b527-43d8-e3b4-98dc2c1f31aa"
      },
      "outputs": [
        {
          "data": {
            "text/plain": [
              "list"
            ]
          },
          "execution_count": 7,
          "metadata": {},
          "output_type": "execute_result"
        }
      ],
      "source": [
        "type(l)"
      ]
    },
    {
      "cell_type": "code",
      "execution_count": null,
      "id": "0458f5c1",
      "metadata": {
        "id": "0458f5c1"
      },
      "outputs": [],
      "source": [
        "l1=[1,2,3,4,5,\"sudh\",\"aravind\",3+6j,35.55,True,[3,5,6]]"
      ]
    },
    {
      "cell_type": "code",
      "execution_count": null,
      "id": "7464e143",
      "metadata": {
        "id": "7464e143",
        "outputId": "ca2ce7b3-3d5c-4e35-9939-e7f05a0596f4"
      },
      "outputs": [
        {
          "data": {
            "text/plain": [
              "[1, 2, 3, 4, 5, 'sudh', 'aravind', (3+6j), 35.55, True, [3, 5, 6]]"
            ]
          },
          "execution_count": 50,
          "metadata": {},
          "output_type": "execute_result"
        }
      ],
      "source": [
        "l1"
      ]
    },
    {
      "cell_type": "code",
      "execution_count": null,
      "id": "1e80620c",
      "metadata": {
        "id": "1e80620c",
        "outputId": "50f9b31c-eb32-4502-e841-be922fdd46f3"
      },
      "outputs": [
        {
          "data": {
            "text/plain": [
              "'sudh'"
            ]
          },
          "execution_count": 14,
          "metadata": {},
          "output_type": "execute_result"
        }
      ],
      "source": [
        "l1[5]"
      ]
    },
    {
      "cell_type": "code",
      "execution_count": null,
      "id": "c3d05d53",
      "metadata": {
        "id": "c3d05d53",
        "outputId": "eca9e100-7644-4f99-a8e0-365883de6b89"
      },
      "outputs": [
        {
          "data": {
            "text/plain": [
              "[3, 5, 6]"
            ]
          },
          "execution_count": 15,
          "metadata": {},
          "output_type": "execute_result"
        }
      ],
      "source": [
        "l1[-1]"
      ]
    },
    {
      "cell_type": "code",
      "execution_count": null,
      "id": "83d811d4",
      "metadata": {
        "id": "83d811d4",
        "outputId": "2e8ff965-4d52-4958-a305-84f154f3dbfc"
      },
      "outputs": [
        {
          "data": {
            "text/plain": [
              "6"
            ]
          },
          "execution_count": 16,
          "metadata": {},
          "output_type": "execute_result"
        }
      ],
      "source": [
        "l1[-1][2]"
      ]
    },
    {
      "cell_type": "code",
      "execution_count": null,
      "id": "1e3cbd54",
      "metadata": {
        "id": "1e3cbd54",
        "outputId": "5374341a-5164-4c77-dedf-1fb6e08f1937"
      },
      "outputs": [
        {
          "data": {
            "text/plain": [
              "[1, 2, 3, 4, 5]"
            ]
          },
          "execution_count": 17,
          "metadata": {},
          "output_type": "execute_result"
        }
      ],
      "source": [
        "l1[0:5]"
      ]
    },
    {
      "cell_type": "code",
      "execution_count": null,
      "id": "2d316039",
      "metadata": {
        "id": "2d316039"
      },
      "outputs": [],
      "source": [
        "l2=[3,5,6,\"pwskill\",\"sudh\"]"
      ]
    },
    {
      "cell_type": "code",
      "execution_count": null,
      "id": "4cd9847f",
      "metadata": {
        "colab": {
          "base_uri": "https://localhost:8080/"
        },
        "id": "4cd9847f",
        "outputId": "328ff31e-85fc-4353-c6f1-fa78a86616bc"
      },
      "outputs": [
        {
          "data": {
            "text/plain": [
              "[1,\n",
              " 2,\n",
              " 3,\n",
              " 4,\n",
              " 5,\n",
              " 'sudh',\n",
              " 'aravind',\n",
              " (3+6j),\n",
              " 35.55,\n",
              " True,\n",
              " [3, 5, 6],\n",
              " 3,\n",
              " 5,\n",
              " 6,\n",
              " 'pwskill',\n",
              " 'sudh']"
            ]
          },
          "execution_count": 19,
          "metadata": {},
          "output_type": "execute_result"
        }
      ],
      "source": [
        "l1+l2"
      ]
    },
    {
      "cell_type": "code",
      "execution_count": null,
      "id": "456426eb",
      "metadata": {
        "id": "456426eb",
        "outputId": "28307bad-7f95-46ec-d4e4-2f47609c30f3"
      },
      "outputs": [
        {
          "ename": "TypeError",
          "evalue": "can only concatenate list (not \"str\") to list",
          "output_type": "error",
          "traceback": [
            "\u001b[1;31m---------------------------------------------------------------------------\u001b[0m",
            "\u001b[1;31mTypeError\u001b[0m                                 Traceback (most recent call last)",
            "Cell \u001b[1;32mIn[20], line 1\u001b[0m\n\u001b[1;32m----> 1\u001b[0m l2\u001b[38;5;241m+\u001b[39m\u001b[38;5;124m\"\u001b[39m\u001b[38;5;124maravind\u001b[39m\u001b[38;5;124m\"\u001b[39m\n",
            "\u001b[1;31mTypeError\u001b[0m: can only concatenate list (not \"str\") to list"
          ]
        }
      ],
      "source": [
        "l2+\"aravind\""
      ]
    },
    {
      "cell_type": "code",
      "execution_count": null,
      "id": "fb923001",
      "metadata": {
        "id": "fb923001",
        "outputId": "ce5dadf0-d21b-4691-efaf-d2fb746987d9"
      },
      "outputs": [
        {
          "data": {
            "text/plain": [
              "['a', 'r', 'a', 'v', 'i', 'n', 'd']"
            ]
          },
          "execution_count": 21,
          "metadata": {},
          "output_type": "execute_result"
        }
      ],
      "source": [
        "list(\"aravind\")"
      ]
    },
    {
      "cell_type": "code",
      "execution_count": null,
      "id": "e8f2352b",
      "metadata": {
        "id": "e8f2352b",
        "outputId": "a315d288-9a73-484b-9859-b629d804eeb6"
      },
      "outputs": [
        {
          "ename": "TypeError",
          "evalue": "'int' object is not iterable",
          "output_type": "error",
          "traceback": [
            "\u001b[1;31m---------------------------------------------------------------------------\u001b[0m",
            "\u001b[1;31mTypeError\u001b[0m                                 Traceback (most recent call last)",
            "Cell \u001b[1;32mIn[26], line 1\u001b[0m\n\u001b[1;32m----> 1\u001b[0m \u001b[38;5;28mlist\u001b[39m(\u001b[38;5;241m345\u001b[39m)\n",
            "\u001b[1;31mTypeError\u001b[0m: 'int' object is not iterable"
          ]
        }
      ],
      "source": [
        "list(345) #only string"
      ]
    },
    {
      "cell_type": "code",
      "execution_count": null,
      "id": "3cb2f34e",
      "metadata": {
        "id": "3cb2f34e",
        "outputId": "00f29a13-9433-41e1-f5cb-4e80d12fa3e5"
      },
      "outputs": [
        {
          "data": {
            "text/plain": [
              "[3, 5, 6, 'pwskill', 'sudh', 3, 5, 6, 'pwskill', 'sudh']"
            ]
          },
          "execution_count": 27,
          "metadata": {},
          "output_type": "execute_result"
        }
      ],
      "source": [
        "l2*2"
      ]
    },
    {
      "cell_type": "code",
      "execution_count": null,
      "id": "d437c987",
      "metadata": {
        "id": "d437c987",
        "outputId": "3da4c3cc-8e57-4285-d34a-0d94700ba3d4"
      },
      "outputs": [
        {
          "data": {
            "text/plain": [
              "[3, 5, 6, 'pwskill', 'sudh']"
            ]
          },
          "execution_count": 28,
          "metadata": {},
          "output_type": "execute_result"
        }
      ],
      "source": [
        "l2"
      ]
    },
    {
      "cell_type": "code",
      "execution_count": null,
      "id": "f05be87d",
      "metadata": {
        "id": "f05be87d"
      },
      "outputs": [],
      "source": [
        "l2[0]=300 # list is a mutable entity"
      ]
    },
    {
      "cell_type": "code",
      "execution_count": null,
      "id": "242043d6",
      "metadata": {
        "id": "242043d6",
        "outputId": "3f0e61fc-cc95-4fd2-d552-ff55a8c72c19"
      },
      "outputs": [
        {
          "data": {
            "text/plain": [
              "[300, 5, 6, 'pwskill', 'sudh']"
            ]
          },
          "execution_count": 31,
          "metadata": {},
          "output_type": "execute_result"
        }
      ],
      "source": [
        "l2"
      ]
    },
    {
      "cell_type": "markdown",
      "id": "ce575289",
      "metadata": {
        "id": "ce575289"
      },
      "source": [
        "# Tuple\n",
        "\n",
        "Tuples are used to store multiple items in a single variable."
      ]
    },
    {
      "cell_type": "code",
      "execution_count": null,
      "id": "12203e72",
      "metadata": {
        "id": "12203e72"
      },
      "outputs": [],
      "source": [
        "t=(1,2,3,4,\"aravind\",\"dsml\",4+5j,True)"
      ]
    },
    {
      "cell_type": "code",
      "execution_count": null,
      "id": "dcee9388",
      "metadata": {
        "id": "dcee9388",
        "outputId": "52c94d08-a944-4262-d290-89d545d0b6dd"
      },
      "outputs": [
        {
          "data": {
            "text/plain": [
              "tuple"
            ]
          },
          "execution_count": 33,
          "metadata": {},
          "output_type": "execute_result"
        }
      ],
      "source": [
        "type(t)"
      ]
    },
    {
      "cell_type": "code",
      "execution_count": null,
      "id": "58d64d49",
      "metadata": {
        "id": "58d64d49",
        "outputId": "2741719f-5577-4b51-9fbe-4112b3c3b4d0"
      },
      "outputs": [
        {
          "data": {
            "text/plain": [
              "1"
            ]
          },
          "execution_count": 34,
          "metadata": {},
          "output_type": "execute_result"
        }
      ],
      "source": [
        "t[0]"
      ]
    },
    {
      "cell_type": "code",
      "execution_count": null,
      "id": "ec17e5a1",
      "metadata": {
        "id": "ec17e5a1",
        "outputId": "900ded1d-4a2c-48d0-cd4d-3f31bd50a9d9"
      },
      "outputs": [
        {
          "data": {
            "text/plain": [
              "True"
            ]
          },
          "execution_count": 35,
          "metadata": {},
          "output_type": "execute_result"
        }
      ],
      "source": [
        "t[-1]"
      ]
    },
    {
      "cell_type": "code",
      "execution_count": null,
      "id": "912319d9",
      "metadata": {
        "id": "912319d9",
        "outputId": "e65322d8-ba56-44f8-e097-26f973e61f94"
      },
      "outputs": [
        {
          "data": {
            "text/plain": [
              "(True, (4+5j), 'dsml', 'aravind', 4, 3, 2, 1)"
            ]
          },
          "execution_count": 36,
          "metadata": {},
          "output_type": "execute_result"
        }
      ],
      "source": [
        "t[::-1]"
      ]
    },
    {
      "cell_type": "code",
      "execution_count": null,
      "id": "f9dcd0c1",
      "metadata": {
        "id": "f9dcd0c1",
        "outputId": "a2aa3427-986c-4f43-d374-48c9aaea250c"
      },
      "outputs": [
        {
          "data": {
            "text/plain": [
              "1"
            ]
          },
          "execution_count": 37,
          "metadata": {},
          "output_type": "execute_result"
        }
      ],
      "source": [
        "t[0]"
      ]
    },
    {
      "cell_type": "code",
      "execution_count": null,
      "id": "4ee1c4ed",
      "metadata": {
        "id": "4ee1c4ed",
        "outputId": "f55fc3dc-ac47-453d-ef2c-0fec4dc2c552"
      },
      "outputs": [
        {
          "ename": "TypeError",
          "evalue": "'tuple' object does not support item assignment",
          "output_type": "error",
          "traceback": [
            "\u001b[1;31m---------------------------------------------------------------------------\u001b[0m",
            "\u001b[1;31mTypeError\u001b[0m                                 Traceback (most recent call last)",
            "Cell \u001b[1;32mIn[38], line 1\u001b[0m\n\u001b[1;32m----> 1\u001b[0m t[\u001b[38;5;241m0\u001b[39m]\u001b[38;5;241m=\u001b[39m\u001b[38;5;124m\"\u001b[39m\u001b[38;5;124maravind\u001b[39m\u001b[38;5;124m\"\u001b[39m\n",
            "\u001b[1;31mTypeError\u001b[0m: 'tuple' object does not support item assignment"
          ]
        }
      ],
      "source": [
        "t[0]=\"aravind\" # tuple are inmutable"
      ]
    },
    {
      "cell_type": "code",
      "execution_count": null,
      "id": "68b92890",
      "metadata": {
        "id": "68b92890"
      },
      "outputs": [],
      "source": [
        "t1=(4,6,2,1,3)"
      ]
    },
    {
      "cell_type": "code",
      "execution_count": null,
      "id": "7a19e50c",
      "metadata": {
        "id": "7a19e50c",
        "outputId": "4d144eab-1e82-42ec-9f87-cbbc7226b21c"
      },
      "outputs": [
        {
          "data": {
            "text/plain": [
              "(1, 2, 3, 4, 'aravind', 'dsml', (4+5j), True, 4, 6, 2, 1, 3)"
            ]
          },
          "execution_count": 40,
          "metadata": {},
          "output_type": "execute_result"
        }
      ],
      "source": [
        "t+t1"
      ]
    },
    {
      "cell_type": "code",
      "execution_count": null,
      "id": "f9271410",
      "metadata": {
        "id": "f9271410",
        "outputId": "4e0544c5-9aa9-4b0d-965f-c05922434c97"
      },
      "outputs": [
        {
          "data": {
            "text/plain": [
              "(1,\n",
              " 2,\n",
              " 3,\n",
              " 4,\n",
              " 'aravind',\n",
              " 'dsml',\n",
              " (4+5j),\n",
              " True,\n",
              " 1,\n",
              " 2,\n",
              " 3,\n",
              " 4,\n",
              " 'aravind',\n",
              " 'dsml',\n",
              " (4+5j),\n",
              " True)"
            ]
          },
          "execution_count": 41,
          "metadata": {},
          "output_type": "execute_result"
        }
      ],
      "source": [
        "t*2"
      ]
    },
    {
      "cell_type": "code",
      "execution_count": null,
      "id": "f0f8e0b5",
      "metadata": {
        "id": "f0f8e0b5",
        "outputId": "17f9a8ae-0b93-460a-c2bd-08c78cd89e26"
      },
      "outputs": [
        {
          "data": {
            "text/plain": [
              "(1, 2, 3, 4, 'aravind', 'dsml', (4+5j), True)"
            ]
          },
          "execution_count": 42,
          "metadata": {},
          "output_type": "execute_result"
        }
      ],
      "source": [
        "t"
      ]
    },
    {
      "cell_type": "code",
      "execution_count": null,
      "id": "93e86ae1",
      "metadata": {
        "id": "93e86ae1",
        "outputId": "b32102a0-74d6-41d8-ae4a-5fa973d8e32b"
      },
      "outputs": [
        {
          "data": {
            "text/plain": [
              "[1, 2, 3, 4, 'aravind', 'dsml', (4+5j), True]"
            ]
          },
          "execution_count": 43,
          "metadata": {},
          "output_type": "execute_result"
        }
      ],
      "source": [
        "list(t) # type casting tuple to list"
      ]
    },
    {
      "cell_type": "code",
      "execution_count": null,
      "id": "c2830c6a",
      "metadata": {
        "id": "c2830c6a",
        "outputId": "ec2728c2-33ad-46b4-8b39-c53789f4c050"
      },
      "outputs": [
        {
          "data": {
            "text/plain": [
              "[300, 5, 6, 'pwskill', 'sudh']"
            ]
          },
          "execution_count": 44,
          "metadata": {},
          "output_type": "execute_result"
        }
      ],
      "source": [
        "l2"
      ]
    },
    {
      "cell_type": "code",
      "execution_count": null,
      "id": "c5e3d0e0",
      "metadata": {
        "id": "c5e3d0e0",
        "outputId": "cdb12753-093d-4c0e-88d1-3eabba3e250f"
      },
      "outputs": [
        {
          "data": {
            "text/plain": [
              "(300, 5, 6, 'pwskill', 'sudh')"
            ]
          },
          "execution_count": 45,
          "metadata": {},
          "output_type": "execute_result"
        }
      ],
      "source": [
        "tuple(l2) #list to tuple"
      ]
    },
    {
      "cell_type": "code",
      "execution_count": null,
      "id": "368d3dd9",
      "metadata": {
        "id": "368d3dd9",
        "outputId": "ddf097da-8f4f-463d-8395-7a09b661cd4d"
      },
      "outputs": [
        {
          "data": {
            "text/plain": [
              "8"
            ]
          },
          "execution_count": 46,
          "metadata": {},
          "output_type": "execute_result"
        }
      ],
      "source": [
        "len(t)"
      ]
    },
    {
      "cell_type": "code",
      "execution_count": null,
      "id": "1a550966",
      "metadata": {
        "id": "1a550966",
        "outputId": "0b13d5b1-3b48-4e86-9f0c-f1b9c9eea2ce"
      },
      "outputs": [
        {
          "data": {
            "text/plain": [
              "7"
            ]
          },
          "execution_count": 47,
          "metadata": {},
          "output_type": "execute_result"
        }
      ],
      "source": [
        "len(\"aravind\")"
      ]
    },
    {
      "cell_type": "markdown",
      "id": "a96d9f32",
      "metadata": {
        "id": "a96d9f32"
      },
      "source": [
        "# SET\n",
        "\n",
        "set is inmutable"
      ]
    },
    {
      "cell_type": "code",
      "execution_count": null,
      "id": "9512eb19",
      "metadata": {
        "id": "9512eb19"
      },
      "outputs": [],
      "source": [
        "s1={1,2,3,4,5,6,6}"
      ]
    },
    {
      "cell_type": "code",
      "execution_count": null,
      "id": "fe9dc28c",
      "metadata": {
        "id": "fe9dc28c",
        "outputId": "3ace8d69-1be4-4d1c-de0c-bfb162930bc3"
      },
      "outputs": [
        {
          "data": {
            "text/plain": [
              "set"
            ]
          },
          "execution_count": 49,
          "metadata": {},
          "output_type": "execute_result"
        }
      ],
      "source": [
        "type(s1)"
      ]
    },
    {
      "cell_type": "code",
      "execution_count": null,
      "id": "eb4aecbc",
      "metadata": {
        "id": "eb4aecbc",
        "outputId": "ede82e2c-9a2f-4bd0-c83a-cb34226353a7"
      },
      "outputs": [
        {
          "data": {
            "text/plain": [
              "{1, 2, 3, 4, 5, 6}"
            ]
          },
          "execution_count": 52,
          "metadata": {},
          "output_type": "execute_result"
        }
      ],
      "source": [
        "s1 # duplication is not possible here in the set"
      ]
    },
    {
      "cell_type": "code",
      "execution_count": null,
      "id": "d1815375",
      "metadata": {
        "id": "d1815375"
      },
      "outputs": [],
      "source": [
        "s2={\"aravind\",\"Aravind\",\"aravind\",1,2,5,4,5,6,4,2}"
      ]
    },
    {
      "cell_type": "code",
      "execution_count": null,
      "id": "d968f2ae",
      "metadata": {
        "id": "d968f2ae",
        "outputId": "32bd5060-c598-4093-a253-fd74183a7145"
      },
      "outputs": [
        {
          "data": {
            "text/plain": [
              "{1, 2, 4, 5, 6, 'Aravind', 'aravind'}"
            ]
          },
          "execution_count": 54,
          "metadata": {},
          "output_type": "execute_result"
        }
      ],
      "source": [
        "s2"
      ]
    },
    {
      "cell_type": "code",
      "execution_count": null,
      "id": "1df24ee0",
      "metadata": {
        "id": "1df24ee0",
        "outputId": "ea61d9a0-2ff8-4bbd-fce3-a5d238328ce3"
      },
      "outputs": [
        {
          "data": {
            "text/plain": [
              "[1, 2, 3, 4, 5, 6]"
            ]
          },
          "execution_count": 55,
          "metadata": {},
          "output_type": "execute_result"
        }
      ],
      "source": [
        "list(s1) #set to list"
      ]
    },
    {
      "cell_type": "code",
      "execution_count": null,
      "id": "33eb17c6",
      "metadata": {
        "id": "33eb17c6",
        "outputId": "45bdc726-a4dd-421a-9ea6-f702df1b7bd7"
      },
      "outputs": [
        {
          "ename": "TypeError",
          "evalue": "unhashable type: 'list'",
          "output_type": "error",
          "traceback": [
            "\u001b[1;31m---------------------------------------------------------------------------\u001b[0m",
            "\u001b[1;31mTypeError\u001b[0m                                 Traceback (most recent call last)",
            "Cell \u001b[1;32mIn[58], line 1\u001b[0m\n\u001b[1;32m----> 1\u001b[0m \u001b[38;5;28mset\u001b[39m(l1)\n",
            "\u001b[1;31mTypeError\u001b[0m: unhashable type: 'list'"
          ]
        }
      ],
      "source": [
        "set(l1) # because it has nested list in it."
      ]
    },
    {
      "cell_type": "code",
      "execution_count": null,
      "id": "0b08cd08",
      "metadata": {
        "id": "0b08cd08",
        "outputId": "7c31bd9e-a574-423e-c389-f7bb9a8a12b1"
      },
      "outputs": [
        {
          "data": {
            "text/plain": [
              "{300, 5, 6, 'pwskill', 'sudh'}"
            ]
          },
          "execution_count": 57,
          "metadata": {},
          "output_type": "execute_result"
        }
      ],
      "source": [
        "set(l2) #list to set"
      ]
    },
    {
      "cell_type": "code",
      "execution_count": null,
      "id": "a24b0fa1",
      "metadata": {
        "id": "a24b0fa1",
        "outputId": "1fbd1b93-0a5d-47e1-abf4-428a20e41ce9"
      },
      "outputs": [
        {
          "ename": "TypeError",
          "evalue": "'set' object is not subscriptable",
          "output_type": "error",
          "traceback": [
            "\u001b[1;31m---------------------------------------------------------------------------\u001b[0m",
            "\u001b[1;31mTypeError\u001b[0m                                 Traceback (most recent call last)",
            "Cell \u001b[1;32mIn[59], line 1\u001b[0m\n\u001b[1;32m----> 1\u001b[0m s2[\u001b[38;5;241m0\u001b[39m]\n",
            "\u001b[1;31mTypeError\u001b[0m: 'set' object is not subscriptable"
          ]
        }
      ],
      "source": [
        "s2[0] # you can extract the data"
      ]
    },
    {
      "cell_type": "code",
      "execution_count": null,
      "id": "06813aa5",
      "metadata": {
        "id": "06813aa5"
      },
      "outputs": [],
      "source": [
        "s3={322,256,565,5,2,2626.5616,\"aravind\"}"
      ]
    },
    {
      "cell_type": "code",
      "execution_count": null,
      "id": "265b104d",
      "metadata": {
        "id": "265b104d",
        "outputId": "d3d7338b-960e-4660-ebb6-ab55cfd315b3"
      },
      "outputs": [
        {
          "ename": "NameError",
          "evalue": "name 's3' is not defined",
          "output_type": "error",
          "traceback": [
            "\u001b[1;31m---------------------------------------------------------------------------\u001b[0m",
            "\u001b[1;31mNameError\u001b[0m                                 Traceback (most recent call last)",
            "Cell \u001b[1;32mIn[1], line 1\u001b[0m\n\u001b[1;32m----> 1\u001b[0m s3\n",
            "\u001b[1;31mNameError\u001b[0m: name 's3' is not defined"
          ]
        }
      ],
      "source": [
        "s3 # set won't sort"
      ]
    },
    {
      "cell_type": "markdown",
      "id": "568d6430",
      "metadata": {
        "id": "568d6430"
      },
      "source": [
        "# Dictonary"
      ]
    },
    {
      "cell_type": "code",
      "execution_count": null,
      "id": "d9bee63c",
      "metadata": {
        "id": "d9bee63c"
      },
      "outputs": [],
      "source": [
        "d={}"
      ]
    },
    {
      "cell_type": "code",
      "execution_count": null,
      "id": "654d99a0",
      "metadata": {
        "id": "654d99a0",
        "outputId": "31b43f66-eb38-478f-ee81-a903fea2b4ff"
      },
      "outputs": [
        {
          "data": {
            "text/plain": [
              "dict"
            ]
          },
          "execution_count": 4,
          "metadata": {},
          "output_type": "execute_result"
        }
      ],
      "source": [
        "type(d)"
      ]
    },
    {
      "cell_type": "code",
      "execution_count": null,
      "id": "6446db96",
      "metadata": {
        "id": "6446db96"
      },
      "outputs": [],
      "source": [
        "d={'name':\"Aravind\",'subject':[\"Data Science\",\"Big Data\",\" Data Analytis\"],'number':152255222}"
      ]
    },
    {
      "cell_type": "code",
      "execution_count": null,
      "id": "5fc30a11",
      "metadata": {
        "id": "5fc30a11",
        "outputId": "f830083b-3e3a-4b52-900a-15360fdda665"
      },
      "outputs": [
        {
          "data": {
            "text/plain": [
              "{'name': 'Aravind',\n",
              " 'subject': ['Data Science', 'Big Data', ' Data Analytis'],\n",
              " 'number': 152255222}"
            ]
          },
          "execution_count": 8,
          "metadata": {},
          "output_type": "execute_result"
        }
      ],
      "source": [
        "d"
      ]
    },
    {
      "cell_type": "code",
      "execution_count": null,
      "id": "a795e542",
      "metadata": {
        "id": "a795e542"
      },
      "outputs": [],
      "source": [
        "d1 ={\"name\":\"aravind\",\"name\":\"Aravind\",\"name\":\"Turaga\"}"
      ]
    },
    {
      "cell_type": "code",
      "execution_count": null,
      "id": "ec43cb2b",
      "metadata": {
        "id": "ec43cb2b",
        "outputId": "fb4a00bc-a8c5-4fd6-cece-9a2b39b9db15"
      },
      "outputs": [
        {
          "data": {
            "text/plain": [
              "{'name': 'Turaga'}"
            ]
          },
          "execution_count": 10,
          "metadata": {},
          "output_type": "execute_result"
        }
      ],
      "source": [
        "d1"
      ]
    },
    {
      "cell_type": "code",
      "execution_count": null,
      "id": "be2bf45f",
      "metadata": {
        "id": "be2bf45f",
        "outputId": "b55e6d96-f4ac-41e9-cfd8-11d51071a888"
      },
      "outputs": [
        {
          "ename": "NameError",
          "evalue": "name 'subject' is not defined",
          "output_type": "error",
          "traceback": [
            "\u001b[1;31m---------------------------------------------------------------------------\u001b[0m",
            "\u001b[1;31mNameError\u001b[0m                                 Traceback (most recent call last)",
            "Cell \u001b[1;32mIn[11], line 1\u001b[0m\n\u001b[1;32m----> 1\u001b[0m d[subject]\n",
            "\u001b[1;31mNameError\u001b[0m: name 'subject' is not defined"
          ]
        }
      ],
      "source": [
        "d[subject]"
      ]
    },
    {
      "cell_type": "code",
      "execution_count": null,
      "id": "6af5ae4f",
      "metadata": {
        "id": "6af5ae4f"
      },
      "outputs": [],
      "source": [
        "d2 = {26656:\"aravind\"}"
      ]
    },
    {
      "cell_type": "code",
      "execution_count": null,
      "id": "4d8780bb",
      "metadata": {
        "id": "4d8780bb",
        "outputId": "cd2479cd-ddda-49cd-c717-f0d0089b97b4"
      },
      "outputs": [
        {
          "data": {
            "text/plain": [
              "{26656: 'aravind'}"
            ]
          },
          "execution_count": 13,
          "metadata": {},
          "output_type": "execute_result"
        }
      ],
      "source": [
        "d2 # key value can be number"
      ]
    },
    {
      "cell_type": "code",
      "execution_count": null,
      "id": "f2b23348",
      "metadata": {
        "id": "f2b23348",
        "outputId": "94afe236-192e-421c-f2aa-dc7a9e88969c"
      },
      "outputs": [
        {
          "ename": "TypeError",
          "evalue": "unhashable type: 'set'",
          "output_type": "error",
          "traceback": [
            "\u001b[1;31m---------------------------------------------------------------------------\u001b[0m",
            "\u001b[1;31mTypeError\u001b[0m                                 Traceback (most recent call last)",
            "Cell \u001b[1;32mIn[14], line 1\u001b[0m\n\u001b[1;32m----> 1\u001b[0m d2 \u001b[38;5;241m=\u001b[39m {{\u001b[38;5;241m2\u001b[39m,\u001b[38;5;241m6\u001b[39m,\u001b[38;5;241m6\u001b[39m,\u001b[38;5;241m56\u001b[39m}:\u001b[38;5;124m\"\u001b[39m\u001b[38;5;124maravind\u001b[39m\u001b[38;5;124m\"\u001b[39m}\n",
            "\u001b[1;31mTypeError\u001b[0m: unhashable type: 'set'"
          ]
        }
      ],
      "source": [
        "d2 = {{2,6,6,56}:\"aravind\"}"
      ]
    },
    {
      "cell_type": "code",
      "execution_count": null,
      "id": "591c6522",
      "metadata": {
        "id": "591c6522",
        "outputId": "8a658caf-876d-42fd-a5a6-eb32b863fb70"
      },
      "outputs": [
        {
          "ename": "TypeError",
          "evalue": "unhashable type: 'list'",
          "output_type": "error",
          "traceback": [
            "\u001b[1;31m---------------------------------------------------------------------------\u001b[0m",
            "\u001b[1;31mTypeError\u001b[0m                                 Traceback (most recent call last)",
            "Cell \u001b[1;32mIn[15], line 1\u001b[0m\n\u001b[1;32m----> 1\u001b[0m d2 \u001b[38;5;241m=\u001b[39m {[\u001b[38;5;241m2\u001b[39m,\u001b[38;5;241m6\u001b[39m,\u001b[38;5;241m6\u001b[39m,\u001b[38;5;241m56\u001b[39m]:\u001b[38;5;124m\"\u001b[39m\u001b[38;5;124maravind\u001b[39m\u001b[38;5;124m\"\u001b[39m}\n",
            "\u001b[1;31mTypeError\u001b[0m: unhashable type: 'list'"
          ]
        }
      ],
      "source": [
        "d2 = {[2,6,6,56]:\"aravind\"}"
      ]
    },
    {
      "cell_type": "code",
      "execution_count": null,
      "id": "b789f9e4",
      "metadata": {
        "id": "b789f9e4"
      },
      "outputs": [],
      "source": [
        "d2 = {(2,6,6,56):\"aravind\"}"
      ]
    },
    {
      "cell_type": "code",
      "execution_count": null,
      "id": "96f281ad",
      "metadata": {
        "id": "96f281ad",
        "outputId": "b20f0de1-4929-43ab-c8c4-ba93a95a1a5e"
      },
      "outputs": [
        {
          "data": {
            "text/plain": [
              "{(2, 6, 6, 56): 'aravind'}"
            ]
          },
          "execution_count": 17,
          "metadata": {},
          "output_type": "execute_result"
        }
      ],
      "source": [
        "d2 #tuple are accepted as a key"
      ]
    },
    {
      "cell_type": "code",
      "execution_count": null,
      "id": "02c17e6d",
      "metadata": {
        "id": "02c17e6d",
        "outputId": "6c7c4216-fae3-4794-e3e8-a8af0ac80563"
      },
      "outputs": [
        {
          "ename": "SyntaxError",
          "evalue": "invalid syntax (3609406759.py, line 1)",
          "output_type": "error",
          "traceback": [
            "\u001b[1;36m  Cell \u001b[1;32mIn[20], line 1\u001b[1;36m\u001b[0m\n\u001b[1;33m    d2 = {%fsf:\"aravind\"}\u001b[0m\n\u001b[1;37m          ^\u001b[0m\n\u001b[1;31mSyntaxError\u001b[0m\u001b[1;31m:\u001b[0m invalid syntax\n"
          ]
        }
      ],
      "source": [
        "d2 = {%fsf:\"aravind\"}"
      ]
    },
    {
      "cell_type": "code",
      "execution_count": null,
      "id": "43681267",
      "metadata": {
        "id": "43681267"
      },
      "outputs": [],
      "source": [
        "d3={\"course\":['java','python','blockchain'],\"mentor\":('sudh','krish','viswa'),\n",
        "    \"price\":{35000,22000,15000},\"duration\":1,'access year':1\n",
        "   }"
      ]
    },
    {
      "cell_type": "code",
      "execution_count": null,
      "id": "de17eff7",
      "metadata": {
        "id": "de17eff7",
        "outputId": "b99e6d94-1a8e-477b-c773-91e027d2815b"
      },
      "outputs": [
        {
          "data": {
            "text/plain": [
              "{'course': ['java', 'python', 'blockchain'],\n",
              " 'mentor': ('sudh', 'krish', 'viswa'),\n",
              " 'price': {15000, 22000, 35000},\n",
              " 'duration': 1,\n",
              " 'access year': 1}"
            ]
          },
          "execution_count": 27,
          "metadata": {},
          "output_type": "execute_result"
        }
      ],
      "source": [
        "d3"
      ]
    },
    {
      "cell_type": "code",
      "execution_count": null,
      "id": "dea03a55",
      "metadata": {
        "id": "dea03a55",
        "outputId": "16a9cfec-16a7-43cf-c905-c356429a30fd"
      },
      "outputs": [
        {
          "data": {
            "text/plain": [
              "['java', 'python', 'blockchain']"
            ]
          },
          "execution_count": 28,
          "metadata": {},
          "output_type": "execute_result"
        }
      ],
      "source": [
        "d3[\"course\"]"
      ]
    },
    {
      "cell_type": "markdown",
      "id": "301ceb31",
      "metadata": {
        "id": "301ceb31"
      },
      "source": [
        "01:34:17 end"
      ]
    },
    {
      "cell_type": "code",
      "execution_count": null,
      "id": "f8bb75ac",
      "metadata": {
        "id": "f8bb75ac"
      },
      "outputs": [],
      "source": [
        " d4={\"course\":['java','python','blockchain'],\"mentor\":('sudh','krish','viswa'),\n",
        "    \"price\":{35000,22000,15000},\"duration\":1,'access year':1,'syllabus':{'python':['core python','oops','pandas','numpy','db','mongodb'],\n",
        "         'ml':['supervised','unsupervised','semisupervised']}\n",
        "   }"
      ]
    },
    {
      "cell_type": "code",
      "execution_count": null,
      "id": "6729e3ed",
      "metadata": {
        "id": "6729e3ed",
        "outputId": "93213309-8fa5-4a54-df64-90de72564986"
      },
      "outputs": [
        {
          "data": {
            "text/plain": [
              "{'course': ['java', 'python', 'blockchain'],\n",
              " 'mentor': ('sudh', 'krish', 'viswa'),\n",
              " 'price': {15000, 22000, 35000},\n",
              " 'duration': 1,\n",
              " 'access year': 1,\n",
              " 'syllabus': {'python': ['core python',\n",
              "   'oops',\n",
              "   'pandas',\n",
              "   'numpy',\n",
              "   'db',\n",
              "   'mongodb'],\n",
              "  'ml': ['supervised', 'unsupervised', 'semisupervised']}}"
            ]
          },
          "execution_count": 2,
          "metadata": {},
          "output_type": "execute_result"
        }
      ],
      "source": [
        "d4"
      ]
    },
    {
      "cell_type": "code",
      "execution_count": null,
      "id": "8dcc6222",
      "metadata": {
        "id": "8dcc6222"
      },
      "outputs": [],
      "source": [
        "d2={'name':'aravind'}"
      ]
    },
    {
      "cell_type": "code",
      "execution_count": null,
      "id": "26bf51af",
      "metadata": {
        "id": "26bf51af",
        "outputId": "cc0f65a0-582c-4203-e6e5-4de86917d4cd"
      },
      "outputs": [
        {
          "data": {
            "text/plain": [
              "{'name': 'aravind'}"
            ]
          },
          "execution_count": 5,
          "metadata": {},
          "output_type": "execute_result"
        }
      ],
      "source": [
        "d2"
      ]
    },
    {
      "cell_type": "code",
      "execution_count": null,
      "id": "e35337af",
      "metadata": {
        "id": "e35337af"
      },
      "outputs": [],
      "source": [
        "d2['phoneNo']=90321456789"
      ]
    },
    {
      "cell_type": "code",
      "execution_count": null,
      "id": "7e894318",
      "metadata": {
        "id": "7e894318",
        "outputId": "148a4a5b-aafd-4455-af62-5f1b1bd1d9c6"
      },
      "outputs": [
        {
          "data": {
            "text/plain": [
              "{'name': 'aravind', 'phoneNo': 90321456789}"
            ]
          },
          "execution_count": 7,
          "metadata": {},
          "output_type": "execute_result"
        }
      ],
      "source": [
        "d2 # it is a mutable enitty"
      ]
    },
    {
      "cell_type": "markdown",
      "id": "6fdec5de",
      "metadata": {
        "id": "6fdec5de"
      },
      "source": [
        "1.string\n",
        "2.list\n",
        "3.tuple\n",
        "4.set\n",
        "5.dist"
      ]
    },
    {
      "cell_type": "markdown",
      "id": "05998489",
      "metadata": {
        "id": "05998489"
      },
      "source": [
        "# Inbuild Functions\n",
        "\n",
        "shift + tab = it will show the description of the function\n",
        "tab = list of function in popup\n"
      ]
    },
    {
      "cell_type": "code",
      "execution_count": null,
      "id": "77957c19",
      "metadata": {
        "id": "77957c19"
      },
      "outputs": [],
      "source": [
        "s1 = \"Aravind\""
      ]
    },
    {
      "cell_type": "code",
      "execution_count": null,
      "id": "83426579",
      "metadata": {
        "id": "83426579",
        "outputId": "6643f8f1-866d-449e-d913-cd12895a6906"
      },
      "outputs": [
        {
          "data": {
            "text/plain": [
              "'Aravind'"
            ]
          },
          "execution_count": 10,
          "metadata": {},
          "output_type": "execute_result"
        }
      ],
      "source": [
        "s1.capitalize()"
      ]
    },
    {
      "cell_type": "code",
      "execution_count": null,
      "id": "979ee25c",
      "metadata": {
        "id": "979ee25c",
        "outputId": "bc2e2f94-8325-4a2c-bded-3aebf0b9c10d"
      },
      "outputs": [
        {
          "data": {
            "text/plain": [
              "1"
            ]
          },
          "execution_count": 13,
          "metadata": {},
          "output_type": "execute_result"
        }
      ],
      "source": [
        "s1.count('A')"
      ]
    },
    {
      "cell_type": "code",
      "execution_count": null,
      "id": "a2e71b1f",
      "metadata": {
        "id": "a2e71b1f",
        "outputId": "070a5c43-6816-4e58-99e2-d59755ade377"
      },
      "outputs": [
        {
          "data": {
            "text/plain": [
              "2"
            ]
          },
          "execution_count": 14,
          "metadata": {},
          "output_type": "execute_result"
        }
      ],
      "source": [
        "s1.find('a')"
      ]
    },
    {
      "cell_type": "code",
      "execution_count": null,
      "id": "f66a571c",
      "metadata": {
        "id": "f66a571c",
        "outputId": "901e02cd-d5e5-4e0f-f8ae-655513792322"
      },
      "outputs": [
        {
          "data": {
            "text/plain": [
              "0"
            ]
          },
          "execution_count": 15,
          "metadata": {},
          "output_type": "execute_result"
        }
      ],
      "source": [
        "s1.index('A')"
      ]
    },
    {
      "cell_type": "code",
      "execution_count": null,
      "id": "f5c7bfb4",
      "metadata": {
        "id": "f5c7bfb4",
        "outputId": "fc38c0e0-94d9-4b26-d5e6-de635fea3c3a"
      },
      "outputs": [
        {
          "data": {
            "text/plain": [
              "2"
            ]
          },
          "execution_count": 16,
          "metadata": {},
          "output_type": "execute_result"
        }
      ],
      "source": [
        "s1.index('a')"
      ]
    },
    {
      "cell_type": "code",
      "execution_count": null,
      "id": "571ccfe1",
      "metadata": {
        "id": "571ccfe1",
        "outputId": "6d98d1df-61ed-42bd-a9c3-17665e0c3b7d"
      },
      "outputs": [
        {
          "data": {
            "text/plain": [
              "-1"
            ]
          },
          "execution_count": 17,
          "metadata": {},
          "output_type": "execute_result"
        }
      ],
      "source": [
        "s1.find('z') # it will return -1 if the data is not available"
      ]
    },
    {
      "cell_type": "code",
      "execution_count": null,
      "id": "795647ad",
      "metadata": {
        "id": "795647ad",
        "outputId": "ed111a8e-b9d7-4339-b40e-aceed33558ad"
      },
      "outputs": [
        {
          "ename": "ValueError",
          "evalue": "substring not found",
          "output_type": "error",
          "traceback": [
            "\u001b[1;31m---------------------------------------------------------------------------\u001b[0m",
            "\u001b[1;31mValueError\u001b[0m                                Traceback (most recent call last)",
            "Cell \u001b[1;32mIn[18], line 1\u001b[0m\n\u001b[1;32m----> 1\u001b[0m s1\u001b[38;5;241m.\u001b[39mindex(\u001b[38;5;124m'\u001b[39m\u001b[38;5;124mz\u001b[39m\u001b[38;5;124m'\u001b[39m)\n",
            "\u001b[1;31mValueError\u001b[0m: substring not found"
          ]
        }
      ],
      "source": [
        "s1.index('z') # it is unable to find"
      ]
    },
    {
      "cell_type": "code",
      "execution_count": null,
      "id": "f683dc9d",
      "metadata": {
        "id": "f683dc9d",
        "outputId": "15dc9b6b-7796-4257-a518-52c59c84801c"
      },
      "outputs": [
        {
          "data": {
            "text/plain": [
              "'ARAVIND'"
            ]
          },
          "execution_count": 19,
          "metadata": {},
          "output_type": "execute_result"
        }
      ],
      "source": [
        "s1.upper()"
      ]
    },
    {
      "cell_type": "code",
      "execution_count": null,
      "id": "a1b44c92",
      "metadata": {
        "id": "a1b44c92",
        "outputId": "b39b5086-abbc-4ed4-c203-359d8c17f154"
      },
      "outputs": [
        {
          "data": {
            "text/plain": [
              "'aravind'"
            ]
          },
          "execution_count": 20,
          "metadata": {},
          "output_type": "execute_result"
        }
      ],
      "source": [
        "s1.lower()"
      ]
    },
    {
      "cell_type": "code",
      "execution_count": null,
      "id": "83d81bed",
      "metadata": {
        "id": "83d81bed",
        "outputId": "f24e8b9c-fc54-4063-f257-a138822f0a2e"
      },
      "outputs": [
        {
          "data": {
            "text/plain": [
              "'Aravind'"
            ]
          },
          "execution_count": 21,
          "metadata": {},
          "output_type": "execute_result"
        }
      ],
      "source": [
        "s1.title()"
      ]
    },
    {
      "cell_type": "code",
      "execution_count": null,
      "id": "eae795c1",
      "metadata": {
        "id": "eae795c1"
      },
      "outputs": [],
      "source": [
        "s2=\"My name is aravind turaga\""
      ]
    },
    {
      "cell_type": "code",
      "execution_count": null,
      "id": "8cad4e01",
      "metadata": {
        "id": "8cad4e01",
        "outputId": "37b93934-6aed-41d9-b11a-5265e701c550"
      },
      "outputs": [
        {
          "data": {
            "text/plain": [
              "'My Nmae Is Aravind Turaga'"
            ]
          },
          "execution_count": 23,
          "metadata": {},
          "output_type": "execute_result"
        }
      ],
      "source": [
        "s2.title()"
      ]
    },
    {
      "cell_type": "code",
      "execution_count": null,
      "id": "c0ef25e0",
      "metadata": {
        "id": "c0ef25e0",
        "outputId": "90134d4c-0b26-445c-9acb-aaba2342cc19"
      },
      "outputs": [
        {
          "data": {
            "text/plain": [
              "['My', 'name', 'is', 'aravind', 'turaga']"
            ]
          },
          "execution_count": 28,
          "metadata": {},
          "output_type": "execute_result"
        }
      ],
      "source": [
        "s2.split()"
      ]
    },
    {
      "cell_type": "code",
      "execution_count": null,
      "id": "da2ec292",
      "metadata": {
        "id": "da2ec292",
        "outputId": "fcc0a5ff-658e-44eb-c8f7-7dbe2890ae44"
      },
      "outputs": [
        {
          "data": {
            "text/plain": [
              "['My n', 'me is ', 'r', 'vind tur', 'g', '']"
            ]
          },
          "execution_count": 27,
          "metadata": {},
          "output_type": "execute_result"
        }
      ],
      "source": [
        "s2.split('a')"
      ]
    },
    {
      "cell_type": "code",
      "execution_count": null,
      "id": "ae36b528",
      "metadata": {
        "id": "ae36b528"
      },
      "outputs": [],
      "source": [
        "s3=\"aravind,turaga,rajahmundry\""
      ]
    },
    {
      "cell_type": "code",
      "execution_count": null,
      "id": "b82b1a26",
      "metadata": {
        "id": "b82b1a26",
        "outputId": "7b244186-a815-49b4-d62f-9f5cbd7c9d37"
      },
      "outputs": [
        {
          "data": {
            "text/plain": [
              "['aravind', 'turaga', 'rajahmundry']"
            ]
          },
          "execution_count": 35,
          "metadata": {},
          "output_type": "execute_result"
        }
      ],
      "source": [
        "s3.split(',')"
      ]
    },
    {
      "cell_type": "code",
      "execution_count": null,
      "id": "94507ace",
      "metadata": {
        "id": "94507ace",
        "outputId": "1ce823f7-2b06-4903-e484-d15c5a97c56e"
      },
      "outputs": [
        {
          "data": {
            "text/plain": [
              "'My nrme is rrrvind turrgr'"
            ]
          },
          "execution_count": 36,
          "metadata": {},
          "output_type": "execute_result"
        }
      ],
      "source": [
        "s2.replace('a','r')"
      ]
    },
    {
      "cell_type": "code",
      "execution_count": null,
      "id": "9d3b5afc",
      "metadata": {
        "id": "9d3b5afc"
      },
      "outputs": [],
      "source": [
        "s4=\"    Aravind      \""
      ]
    },
    {
      "cell_type": "code",
      "execution_count": null,
      "id": "e0361b15",
      "metadata": {
        "id": "e0361b15",
        "outputId": "05037925-9949-409b-d4d8-62918c8f563f"
      },
      "outputs": [
        {
          "data": {
            "text/plain": [
              "'    aravind'"
            ]
          },
          "execution_count": 38,
          "metadata": {},
          "output_type": "execute_result"
        }
      ],
      "source": [
        "s4.rstrip()"
      ]
    },
    {
      "cell_type": "code",
      "execution_count": null,
      "id": "4a654705",
      "metadata": {
        "id": "4a654705",
        "outputId": "dad67c0a-35b6-442a-8ff1-1104e61c3ddd"
      },
      "outputs": [
        {
          "data": {
            "text/plain": [
              "'aravind      '"
            ]
          },
          "execution_count": 39,
          "metadata": {},
          "output_type": "execute_result"
        }
      ],
      "source": [
        "s4.lstrip()"
      ]
    },
    {
      "cell_type": "code",
      "execution_count": null,
      "id": "52bd2e84",
      "metadata": {
        "id": "52bd2e84",
        "outputId": "ea1d0e02-fee7-4418-e099-8f4bc669eeb2"
      },
      "outputs": [
        {
          "data": {
            "text/plain": [
              "'aravind'"
            ]
          },
          "execution_count": 40,
          "metadata": {},
          "output_type": "execute_result"
        }
      ],
      "source": [
        "s4.strip()"
      ]
    },
    {
      "cell_type": "code",
      "execution_count": null,
      "id": "51233502",
      "metadata": {
        "id": "51233502",
        "outputId": "a38bfec2-e176-4f03-d584-e328d8aa1c03"
      },
      "outputs": [
        {
          "data": {
            "text/plain": [
              "False"
            ]
          },
          "execution_count": 41,
          "metadata": {},
          "output_type": "execute_result"
        }
      ],
      "source": [
        "s4.isalnum()"
      ]
    },
    {
      "cell_type": "code",
      "execution_count": null,
      "id": "4deb80df",
      "metadata": {
        "id": "4deb80df",
        "outputId": "655bc5f8-c665-41eb-b2f3-18e4d4c6f301"
      },
      "outputs": [
        {
          "data": {
            "text/plain": [
              "True"
            ]
          },
          "execution_count": 42,
          "metadata": {},
          "output_type": "execute_result"
        }
      ],
      "source": [
        "s1.isalpha()"
      ]
    },
    {
      "cell_type": "code",
      "execution_count": null,
      "id": "d884bc78",
      "metadata": {
        "id": "d884bc78",
        "outputId": "e3d8330f-896f-4298-e6e7-b61430870527"
      },
      "outputs": [
        {
          "data": {
            "text/plain": [
              "False"
            ]
          },
          "execution_count": 44,
          "metadata": {},
          "output_type": "execute_result"
        }
      ],
      "source": [
        "s1.islower()"
      ]
    },
    {
      "cell_type": "markdown",
      "id": "9f5654d0",
      "metadata": {
        "id": "9f5654d0"
      },
      "source": [
        "list buildin function"
      ]
    },
    {
      "cell_type": "code",
      "execution_count": null,
      "id": "a336326b",
      "metadata": {
        "id": "a336326b",
        "outputId": "586a7c77-ba2e-4d76-d56a-5cc48ed51d89"
      },
      "outputs": [
        {
          "data": {
            "text/plain": [
              "[1, 2, 3, 4, 5, 'sudh', 'aravind', (3+6j), 35.55, True, [3, 5, 6]]"
            ]
          },
          "execution_count": 51,
          "metadata": {},
          "output_type": "execute_result"
        }
      ],
      "source": [
        "l1"
      ]
    },
    {
      "cell_type": "code",
      "execution_count": null,
      "id": "ff473d25",
      "metadata": {
        "id": "ff473d25",
        "outputId": "c429b74b-4ed1-4d80-b581-69272ba3e36a"
      },
      "outputs": [
        {
          "data": {
            "text/plain": [
              "[3, 5, 6, 'pwskill', 'sudh']"
            ]
          },
          "execution_count": 55,
          "metadata": {},
          "output_type": "execute_result"
        }
      ],
      "source": [
        "l2"
      ]
    },
    {
      "cell_type": "code",
      "execution_count": null,
      "id": "e4748afe",
      "metadata": {
        "colab": {
          "base_uri": "https://localhost:8080/"
        },
        "id": "e4748afe",
        "outputId": "3c9a14fb-a836-4184-c2f5-50360675179e"
      },
      "outputs": [
        {
          "data": {
            "text/plain": [
              "[3, 5, 6, 'pwskill', 'sudh']"
            ]
          },
          "execution_count": 5,
          "metadata": {},
          "output_type": "execute_result"
        }
      ],
      "source": [
        "l2"
      ]
    },
    {
      "cell_type": "code",
      "execution_count": null,
      "id": "227e5dba",
      "metadata": {
        "id": "227e5dba"
      },
      "outputs": [],
      "source": [
        "l2.append(\"Aravind\")"
      ]
    },
    {
      "cell_type": "code",
      "execution_count": null,
      "id": "3IekJCvWFJod",
      "metadata": {
        "colab": {
          "base_uri": "https://localhost:8080/"
        },
        "id": "3IekJCvWFJod",
        "outputId": "63ea001f-6a89-4763-8781-6cc06708fd29"
      },
      "outputs": [
        {
          "data": {
            "text/plain": [
              "[3, 5, 6, 'pwskill', 'sudh', 'Aravind', 'Aravind', 'Aravind']"
            ]
          },
          "execution_count": 9,
          "metadata": {},
          "output_type": "execute_result"
        }
      ],
      "source": [
        "l2"
      ]
    },
    {
      "cell_type": "code",
      "execution_count": null,
      "id": "XgmzhwYTFbfv",
      "metadata": {
        "id": "XgmzhwYTFbfv"
      },
      "outputs": [],
      "source": [
        "l2.insert(2,7)"
      ]
    },
    {
      "cell_type": "code",
      "execution_count": null,
      "id": "7sE1AV_lFrxB",
      "metadata": {
        "colab": {
          "base_uri": "https://localhost:8080/"
        },
        "id": "7sE1AV_lFrxB",
        "outputId": "5c816f44-7d00-4df3-e41d-99ac44b0d140"
      },
      "outputs": [
        {
          "data": {
            "text/plain": [
              "[3, 5, 7, 6, 'pwskill', 'sudh', 'Aravind', 'Aravind', 'Aravind']"
            ]
          },
          "execution_count": 11,
          "metadata": {},
          "output_type": "execute_result"
        }
      ],
      "source": [
        "l2"
      ]
    },
    {
      "cell_type": "code",
      "execution_count": null,
      "id": "BvoxtHvJFtnS",
      "metadata": {
        "colab": {
          "base_uri": "https://localhost:8080/"
        },
        "id": "BvoxtHvJFtnS",
        "outputId": "e4622d4a-664c-4898-86a9-83087f6c1ad7"
      },
      "outputs": [
        {
          "data": {
            "text/plain": [
              "[1, 2, 3, 4, 5, 'sudh', 'aravind', (3+6j), 35.55, True, [3, 5, 6]]"
            ]
          },
          "execution_count": 12,
          "metadata": {},
          "output_type": "execute_result"
        }
      ],
      "source": [
        "l1\n"
      ]
    },
    {
      "cell_type": "code",
      "execution_count": null,
      "id": "2RvCweBXGHAR",
      "metadata": {
        "id": "2RvCweBXGHAR"
      },
      "outputs": [],
      "source": [
        "l1.extend('Data Science')"
      ]
    },
    {
      "cell_type": "code",
      "execution_count": null,
      "id": "8ZC7SsdhGLqt",
      "metadata": {
        "colab": {
          "base_uri": "https://localhost:8080/"
        },
        "id": "8ZC7SsdhGLqt",
        "outputId": "423ae4b9-f582-41b0-9bd6-d5247d1befc1"
      },
      "outputs": [
        {
          "data": {
            "text/plain": [
              "[1,\n",
              " 2,\n",
              " 3,\n",
              " 4,\n",
              " 5,\n",
              " 'sudh',\n",
              " 'aravind',\n",
              " (3+6j),\n",
              " 35.55,\n",
              " True,\n",
              " [3, 5, 6],\n",
              " 'D',\n",
              " 'a',\n",
              " 't',\n",
              " 'a',\n",
              " ' ',\n",
              " 'S',\n",
              " 'c',\n",
              " 'i',\n",
              " 'e',\n",
              " 'n',\n",
              " 'c',\n",
              " 'e']"
            ]
          },
          "execution_count": 5,
          "metadata": {},
          "output_type": "execute_result"
        }
      ],
      "source": [
        "l1"
      ]
    },
    {
      "cell_type": "code",
      "execution_count": null,
      "id": "jX5M-XlMGNB2",
      "metadata": {
        "id": "jX5M-XlMGNB2"
      },
      "outputs": [],
      "source": [
        "l3=[1,2,3]"
      ]
    },
    {
      "cell_type": "code",
      "execution_count": null,
      "id": "Pb096bL1G9Aj",
      "metadata": {
        "id": "Pb096bL1G9Aj"
      },
      "outputs": [],
      "source": [
        "l3.append([4,5,6])"
      ]
    },
    {
      "cell_type": "code",
      "execution_count": null,
      "id": "ihKZ7SPKHDzR",
      "metadata": {
        "colab": {
          "base_uri": "https://localhost:8080/"
        },
        "id": "ihKZ7SPKHDzR",
        "outputId": "38ed3480-f1da-45c1-e479-590c10431b58"
      },
      "outputs": [
        {
          "data": {
            "text/plain": [
              "[1, 2, 3, [4, 5, 6]]"
            ]
          },
          "execution_count": 17,
          "metadata": {},
          "output_type": "execute_result"
        }
      ],
      "source": [
        "l3"
      ]
    },
    {
      "cell_type": "code",
      "execution_count": null,
      "id": "i2r21pFUHEc1",
      "metadata": {
        "id": "i2r21pFUHEc1"
      },
      "outputs": [],
      "source": [
        "l3.extend([7,8,9])"
      ]
    },
    {
      "cell_type": "code",
      "execution_count": null,
      "id": "248TGMRQHq4V",
      "metadata": {
        "colab": {
          "base_uri": "https://localhost:8080/"
        },
        "id": "248TGMRQHq4V",
        "outputId": "1c4c37fa-0a73-4640-9788-806c51319f63"
      },
      "outputs": [
        {
          "data": {
            "text/plain": [
              "[1, 2, 3, [4, 5, 6], 7, 8, 9]"
            ]
          },
          "execution_count": 19,
          "metadata": {},
          "output_type": "execute_result"
        }
      ],
      "source": [
        "l3"
      ]
    },
    {
      "cell_type": "code",
      "execution_count": null,
      "id": "m4tfyurnHr1R",
      "metadata": {
        "colab": {
          "base_uri": "https://localhost:8080/"
        },
        "id": "m4tfyurnHr1R",
        "outputId": "d8069a0d-e638-459e-db45-312f6fae7345"
      },
      "outputs": [
        {
          "data": {
            "text/plain": [
              "[4, 5, 6]"
            ]
          },
          "execution_count": 23,
          "metadata": {},
          "output_type": "execute_result"
        }
      ],
      "source": [
        "l3.pop()"
      ]
    },
    {
      "cell_type": "code",
      "execution_count": null,
      "id": "esPmnZQBIJdO",
      "metadata": {
        "id": "esPmnZQBIJdO"
      },
      "outputs": [],
      "source": [
        "l3=[1, 2, 3, [4, 5, 6], 7, 8, 9]"
      ]
    },
    {
      "cell_type": "code",
      "execution_count": null,
      "id": "S6b44iURwQ3S",
      "metadata": {
        "colab": {
          "base_uri": "https://localhost:8080/"
        },
        "id": "S6b44iURwQ3S",
        "outputId": "f7d91b2f-ada0-4309-80a8-ef0cb0289825"
      },
      "outputs": [
        {
          "data": {
            "text/plain": [
              "3"
            ]
          },
          "execution_count": 8,
          "metadata": {},
          "output_type": "execute_result"
        }
      ],
      "source": [
        "l3.pop(2)"
      ]
    },
    {
      "cell_type": "code",
      "execution_count": null,
      "id": "VW7ISJWkwVjD",
      "metadata": {
        "colab": {
          "base_uri": "https://localhost:8080/"
        },
        "id": "VW7ISJWkwVjD",
        "outputId": "5d91ea88-de58-4f84-da7c-059f57d626bb"
      },
      "outputs": [
        {
          "data": {
            "text/plain": [
              "[1, 2, [4, 5, 6], 7, 8, 9]"
            ]
          },
          "execution_count": 9,
          "metadata": {},
          "output_type": "execute_result"
        }
      ],
      "source": [
        "l3\n"
      ]
    },
    {
      "cell_type": "code",
      "execution_count": null,
      "id": "Hsfea8OrwXk1",
      "metadata": {
        "id": "Hsfea8OrwXk1"
      },
      "outputs": [],
      "source": [
        "del l3 # delete the list"
      ]
    },
    {
      "cell_type": "code",
      "execution_count": null,
      "id": "Kgr4cwq3wd1Y",
      "metadata": {
        "colab": {
          "base_uri": "https://localhost:8080/",
          "height": 175
        },
        "id": "Kgr4cwq3wd1Y",
        "outputId": "17fdfd7f-ec07-44ae-8c67-fa092e0aead2"
      },
      "outputs": [
        {
          "ename": "NameError",
          "evalue": "name 'l3' is not defined",
          "output_type": "error",
          "traceback": [
            "\u001b[0;31m---------------------------------------------------------------------------\u001b[0m",
            "\u001b[0;31mNameError\u001b[0m                                 Traceback (most recent call last)",
            "\u001b[0;32m<ipython-input-11-b8fff4990345>\u001b[0m in \u001b[0;36m<cell line: 1>\u001b[0;34m()\u001b[0m\n\u001b[0;32m----> 1\u001b[0;31m \u001b[0ml3\u001b[0m\u001b[0;34m\u001b[0m\u001b[0;34m\u001b[0m\u001b[0m\n\u001b[0m",
            "\u001b[0;31mNameError\u001b[0m: name 'l3' is not defined"
          ]
        }
      ],
      "source": [
        "l3"
      ]
    },
    {
      "cell_type": "code",
      "execution_count": null,
      "id": "cF5o_lRLwfLR",
      "metadata": {
        "id": "cF5o_lRLwfLR"
      },
      "outputs": [],
      "source": [
        "l3.remove(3)"
      ]
    },
    {
      "cell_type": "code",
      "execution_count": null,
      "id": "2-OC635KwvfE",
      "metadata": {
        "colab": {
          "base_uri": "https://localhost:8080/"
        },
        "id": "2-OC635KwvfE",
        "outputId": "dc2885da-0588-43d7-cd89-2d806c0f842e"
      },
      "outputs": [
        {
          "data": {
            "text/plain": [
              "[1, 2, [4, 5, 6], 7, 8, 9]"
            ]
          },
          "execution_count": 14,
          "metadata": {},
          "output_type": "execute_result"
        }
      ],
      "source": [
        "l3"
      ]
    },
    {
      "cell_type": "code",
      "execution_count": null,
      "id": "nn8GK0I5wwwc",
      "metadata": {
        "id": "nn8GK0I5wwwc"
      },
      "outputs": [],
      "source": [
        "l1.clear() # clear all the data"
      ]
    },
    {
      "cell_type": "code",
      "execution_count": null,
      "id": "yFsIRN5rxIA3",
      "metadata": {
        "colab": {
          "base_uri": "https://localhost:8080/"
        },
        "id": "yFsIRN5rxIA3",
        "outputId": "047b9bbe-cc08-41da-f0bb-1256a545c230"
      },
      "outputs": [
        {
          "data": {
            "text/plain": [
              "[1, 2, 3, 4, 5, 'sudh', 'aravind', (3+6j), 35.55, True, [3, 5, 6]]"
            ]
          },
          "execution_count": 20,
          "metadata": {},
          "output_type": "execute_result"
        }
      ],
      "source": [
        "l1"
      ]
    },
    {
      "cell_type": "code",
      "execution_count": null,
      "id": "tpU6nzarxJQA",
      "metadata": {
        "colab": {
          "base_uri": "https://localhost:8080/"
        },
        "id": "tpU6nzarxJQA",
        "outputId": "4adde38b-81df-4b54-a289-1736ad29feec"
      },
      "outputs": [
        {
          "data": {
            "text/plain": [
              "4"
            ]
          },
          "execution_count": 23,
          "metadata": {},
          "output_type": "execute_result"
        }
      ],
      "source": [
        "l1.index(5)"
      ]
    },
    {
      "cell_type": "code",
      "execution_count": null,
      "id": "oAgu4ftnxt8n",
      "metadata": {
        "id": "oAgu4ftnxt8n"
      },
      "outputs": [],
      "source": [
        "l1.reverse()"
      ]
    },
    {
      "cell_type": "code",
      "execution_count": null,
      "id": "iNXkm5gFx4m1",
      "metadata": {
        "colab": {
          "base_uri": "https://localhost:8080/"
        },
        "id": "iNXkm5gFx4m1",
        "outputId": "632db92f-6906-4239-e016-a5888a8e21a2"
      },
      "outputs": [
        {
          "data": {
            "text/plain": [
              "[[3, 5, 6], True, 35.55, (3+6j), 'aravind', 'sudh', 5, 4, 3, 2, 1]"
            ]
          },
          "execution_count": 25,
          "metadata": {},
          "output_type": "execute_result"
        }
      ],
      "source": [
        "l1"
      ]
    },
    {
      "cell_type": "code",
      "execution_count": null,
      "id": "JiDPlXWLx5pY",
      "metadata": {
        "id": "JiDPlXWLx5pY"
      },
      "outputs": [],
      "source": [
        "l3=[4,8,5,3,7,5,1]"
      ]
    },
    {
      "cell_type": "code",
      "execution_count": null,
      "id": "jbCHNMHmyRWh",
      "metadata": {
        "id": "jbCHNMHmyRWh"
      },
      "outputs": [],
      "source": [
        "l3.sort()"
      ]
    },
    {
      "cell_type": "code",
      "execution_count": null,
      "id": "ubLXsL6nyS-H",
      "metadata": {
        "colab": {
          "base_uri": "https://localhost:8080/"
        },
        "id": "ubLXsL6nyS-H",
        "outputId": "f31901f2-7ded-4997-89e7-2118a961d2cc"
      },
      "outputs": [
        {
          "data": {
            "text/plain": [
              "[1, 3, 4, 5, 5, 7, 8]"
            ]
          },
          "execution_count": 29,
          "metadata": {},
          "output_type": "execute_result"
        }
      ],
      "source": [
        "l3"
      ]
    },
    {
      "cell_type": "code",
      "execution_count": null,
      "id": "CXoImqDfycjt",
      "metadata": {
        "id": "CXoImqDfycjt"
      },
      "outputs": [],
      "source": [
        "l4=[\"aravind\",\"abcd\",\"turaga\"]"
      ]
    },
    {
      "cell_type": "code",
      "execution_count": null,
      "id": "lCrYVfUuye59",
      "metadata": {
        "id": "lCrYVfUuye59"
      },
      "outputs": [],
      "source": [
        "l4.sort()"
      ]
    },
    {
      "cell_type": "code",
      "execution_count": null,
      "id": "FY_NfLbAylq0",
      "metadata": {
        "colab": {
          "base_uri": "https://localhost:8080/"
        },
        "id": "FY_NfLbAylq0",
        "outputId": "b47d4389-1524-49ec-acff-2c478c365680"
      },
      "outputs": [
        {
          "data": {
            "text/plain": [
              "['abcd', 'aravind', 'turaga']"
            ]
          },
          "execution_count": 34,
          "metadata": {},
          "output_type": "execute_result"
        }
      ],
      "source": [
        "l4"
      ]
    },
    {
      "cell_type": "code",
      "execution_count": null,
      "id": "EWl8SitfyrRG",
      "metadata": {
        "id": "EWl8SitfyrRG"
      },
      "outputs": [],
      "source": [
        "l4.sort(reverse=True)"
      ]
    },
    {
      "cell_type": "code",
      "execution_count": null,
      "id": "ghFCGT4LywKx",
      "metadata": {
        "colab": {
          "base_uri": "https://localhost:8080/"
        },
        "id": "ghFCGT4LywKx",
        "outputId": "d3fb91f8-8aae-44e1-efc2-00820b3b286d"
      },
      "outputs": [
        {
          "data": {
            "text/plain": [
              "['turaga', 'aravind', 'abcd']"
            ]
          },
          "execution_count": 36,
          "metadata": {},
          "output_type": "execute_result"
        }
      ],
      "source": [
        "l4"
      ]
    },
    {
      "cell_type": "code",
      "execution_count": null,
      "id": "yY7_MGYSyy2U",
      "metadata": {
        "id": "yY7_MGYSyy2U"
      },
      "outputs": [],
      "source": [
        "# this my last commit"
      ]
    }
  ],
  "metadata": {
    "colab": {
      "provenance": []
    },
    "kernelspec": {
      "display_name": "Python 3 (ipykernel)",
      "language": "python",
      "name": "python3"
    },
    "language_info": {
      "codemirror_mode": {
        "name": "ipython",
        "version": 3
      },
      "file_extension": ".py",
      "mimetype": "text/x-python",
      "name": "python",
      "nbconvert_exporter": "python",
      "pygments_lexer": "ipython3",
      "version": "3.11.5"
    }
  },
  "nbformat": 4,
  "nbformat_minor": 5
}
